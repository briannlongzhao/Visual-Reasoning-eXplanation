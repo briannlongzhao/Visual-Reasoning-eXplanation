{
 "cells": [
  {
   "cell_type": "markdown",
   "id": "f9cb3f0f-3f54-4175-a01c-91571e1b6ab1",
   "metadata": {},
   "source": [
    "collection of various helper functions for running ACE"
   ]
  },
  {
   "cell_type": "code",
   "execution_count": null,
   "id": "89e5384e-54b1-408f-a404-042f619ca8c5",
   "metadata": {},
   "outputs": [],
   "source": [
    "from multiprocessing import dummy as multiprocessing\n",
    "import sys\n",
    "import os\n",
    "from matplotlib import pyplot as plt\n",
    "import matplotlib.gridspec as gridspec\n",
    "import tcav.model as model\n",
    "from PIL import Image\n",
    "from skimage.segmentation import mark_boundaries\n",
    "from sklearn import linear_model\n",
    "from sklearn.model_selection import cross_val_score\n",
    "import tensorflow as tf\n",
    "import cv2\n",
    "from src.model_Xception import *\n",
    "from src.gradcam import TARGET_SIZE"
   ]
  },
  {
   "cell_type": "code",
   "execution_count": null,
   "id": "d0cdbb09-a2fe-4b24-bfd0-36dcc0e3c412",
   "metadata": {},
   "outputs": [],
   "source": [
    "def make_model(sess, model_to_run, model_path, labels_path, randomize=False, gradcam_layer=None):\n",
    "    \"\"\"Make an instance of a model.\n",
    "    Args:\n",
    "        sess: tf session instance.\n",
    "        model_to_run: a string that describes which model to make.\n",
    "        model_path: Path to models saved graph.\n",
    "        randomize: Start with random weights\n",
    "        labels_path: Path to models line separated class names text file.\n",
    "    Returns:\n",
    "        a model instance.\n",
    "    Raises:\n",
    "        ValueError: If model name is not valid.\n",
    "    \"\"\"\n",
    "    if model_to_run == 'InceptionV3':\n",
    "        mymodel = model.InceptionV3Wrapper_public(sess, model_saved_path=model_path, labels_path=labels_path)\n",
    "    elif model_to_run == 'GoogleNet':\n",
    "        # common_typos_disable\n",
    "        mymodel = model.GoolgeNetWrapper_public(sess, model_saved_path=model_path, labels_path=labels_path)\n",
    "    elif model_to_run == 'Xception':\n",
    "        mymodel = XceptionWrapper_public(include_top=True, weights=\"imagenet\", labels_path=labels_path, gradcam_layer=gradcam_layer)\n",
    "    else:\n",
    "        raise ValueError('Invalid model name')\n",
    "    if randomize:  # randomize the network!\n",
    "        sess.run(tf.global_variables_initializer())\n",
    "    return mymodel"
   ]
  }
 ],
 "metadata": {
  "kernelspec": {
   "display_name": "Python 3",
   "language": "python",
   "name": "python3"
  },
  "language_info": {
   "codemirror_mode": {
    "name": "ipython",
    "version": 3
   },
   "file_extension": ".py",
   "mimetype": "text/x-python",
   "name": "python",
   "nbconvert_exporter": "python",
   "pygments_lexer": "ipython3",
   "version": "3.6.13"
  }
 },
 "nbformat": 4,
 "nbformat_minor": 5
}
